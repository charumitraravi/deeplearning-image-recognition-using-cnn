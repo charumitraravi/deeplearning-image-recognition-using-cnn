{
  "nbformat": 4,
  "nbformat_minor": 0,
  "metadata": {
    "colab": {
      "provenance": []
    },
    "kernelspec": {
      "name": "python3",
      "display_name": "Python 3"
    },
    "language_info": {
      "name": "python"
    }
  },
  "cells": [
    {
      "cell_type": "code",
      "execution_count": 1,
      "metadata": {
        "colab": {
          "base_uri": "https://localhost:8080/"
        },
        "id": "yps_OXlBEQll",
        "outputId": "eed19577-c198-4ce4-9a00-eecd0f61e151"
      },
      "outputs": [
        {
          "output_type": "stream",
          "name": "stdout",
          "text": [
            "Looking in indexes: https://pypi.org/simple, https://us-python.pkg.dev/colab-wheels/public/simple/\n",
            "Requirement already satisfied: pandas in /usr/local/lib/python3.8/dist-packages (1.3.5)\n",
            "Collecting pandas\n",
            "  Downloading pandas-1.5.2-cp38-cp38-manylinux_2_17_x86_64.manylinux2014_x86_64.whl (12.2 MB)\n",
            "\u001b[K     |████████████████████████████████| 12.2 MB 11.9 MB/s \n",
            "\u001b[?25hRequirement already satisfied: python-dateutil>=2.8.1 in /usr/local/lib/python3.8/dist-packages (from pandas) (2.8.2)\n",
            "Requirement already satisfied: pytz>=2020.1 in /usr/local/lib/python3.8/dist-packages (from pandas) (2022.6)\n",
            "Requirement already satisfied: numpy>=1.20.3 in /usr/local/lib/python3.8/dist-packages (from pandas) (1.21.6)\n",
            "Requirement already satisfied: six>=1.5 in /usr/local/lib/python3.8/dist-packages (from python-dateutil>=2.8.1->pandas) (1.15.0)\n",
            "Installing collected packages: pandas\n",
            "  Attempting uninstall: pandas\n",
            "    Found existing installation: pandas 1.3.5\n",
            "    Uninstalling pandas-1.3.5:\n",
            "      Successfully uninstalled pandas-1.3.5\n",
            "Successfully installed pandas-1.5.2\n"
          ]
        }
      ],
      "source": [
        "!pip install -U pandas"
      ]
    },
    {
      "cell_type": "code",
      "source": [
        "import pandas as pd\n",
        "\n",
        "train = pd.read_pickle(\"/content/drive/MyDrive/aml mini project/train100c5k_v2.pkl\")\n",
        "# sampling input data to 10 percent of original size\n",
        "# train = train.sample(frac=0.5, random_state=5)\n",
        "X = train[\"data\"]\n",
        "Y = train[\"target\"]\n"
      ],
      "metadata": {
        "id": "M0HI8HlKEdCi"
      },
      "execution_count": 2,
      "outputs": []
    },
    {
      "cell_type": "markdown",
      "source": [
        "# New Section"
      ],
      "metadata": {
        "id": "xlCc6PvBFG2G"
      }
    },
    {
      "cell_type": "code",
      "source": [
        "#Spltitting the train and test data with test size as 20 percent of the total data \n",
        "from sklearn.model_selection import train_test_split\n",
        "X_train, X_test, y_train, y_test = train_test_split(X, Y, test_size=0.2 , random_state=3)\n",
        "len(X_train)"
      ],
      "metadata": {
        "id": "rAXBNBmIEj_M",
        "colab": {
          "base_uri": "https://localhost:8080/"
        },
        "outputId": "fa11b940-5fee-40c9-df14-431c744d7744"
      },
      "execution_count": 3,
      "outputs": [
        {
          "output_type": "execute_result",
          "data": {
            "text/plain": [
              "400000"
            ]
          },
          "metadata": {},
          "execution_count": 3
        }
      ]
    },
    {
      "cell_type": "code",
      "source": [
        "# Plotting a random image data\n",
        "import matplotlib.pyplot as plt\n",
        "\n",
        "def image_plot(data, index):\n",
        "    plt.figure(figsize = (30,5))\n",
        "    plt.imshow(X[index])\n",
        "\n",
        "     \n",
        "image_plot(X, 100)\n"
      ],
      "metadata": {
        "colab": {
          "base_uri": "https://localhost:8080/",
          "height": 320
        },
        "id": "ua-JnPSkW-b2",
        "outputId": "d1a559ba-3b6f-4f53-d9b8-aec806a82c4b"
      },
      "execution_count": 4,
      "outputs": [
        {
          "output_type": "display_data",
          "data": {
            "text/plain": [
              "<Figure size 2160x360 with 1 Axes>"
            ],
            "image/png": "[encoded data removed]"
          },
          "metadata": {
            "needs_background": "light"
          }
        }
      ]
    },
    {
      "cell_type": "code",
      "source": [
        "\n"
      ],
      "metadata": {
        "id": "s24QnykCxYWX"
      },
      "execution_count": 4,
      "outputs": []
    },
    {
      "cell_type": "code",
      "source": [
        "# imports for building our cnn network structure\n",
        "from keras.layers import Conv2D,MaxPool2D,Dropout,Flatten,Dense,BatchNormalization,RandomFlip,RandomRotation\n",
        "from keras.models import Sequential\n",
        "from keras.utils import np_utils\n",
        "import numpy as np\n",
        "from sklearn.metrics import accuracy_score\n",
        "\n",
        "num_classes = len(y_train.value_counts())\n",
        "\n",
        "\n",
        "# Reshaping the input images in the train data X and test data X from (28,28) to (28,28,1) where 1 represents the gray scale color schema and converting it to float\n",
        "X_train = np.array([i.reshape(28,28,1) for i in X_train])\n",
        "X_train = X_train.astype('float32')\n",
        "X_test = np.array([i.reshape(28,28,1) for i in X_test])\n",
        "X_test = X_test.astype('float32')\n",
        "\n",
        "\n",
        "\n",
        "# Normalisation of the input data by dividing it by 255 to get the values between 0 and 1\n",
        "X_train /= 255\n",
        "X_test /= 255\n",
        "\n",
        "\n",
        "# Encoding the output data into categorical data to include the categories as different classes using np_utils\n",
        "print(\"Total classes in the train data : \", num_classes)\n",
        "Y_train = np_utils.to_categorical(y_train, num_classes)\n",
        "Y_test = np_utils.to_categorical(y_test, num_classes)\n",
        "\n",
        "\n",
        "\n"
      ],
      "metadata": {
        "colab": {
          "base_uri": "https://localhost:8080/"
        },
        "id": "BDYS2Cf0Lf_v",
        "outputId": "1964ddf9-79a9-4723-f2d2-172d1d93bc14"
      },
      "execution_count": 5,
      "outputs": [
        {
          "output_type": "stream",
          "name": "stdout",
          "text": [
            "Total classes in the train data :  100\n"
          ]
        }
      ]
    },
    {
      "cell_type": "code",
      "source": [
        "\n",
        "EPOCHS = 6\n",
        "BATCH_SIZE = 250\n",
        "INPUT_SHAPE =(28,28,1)\n",
        "KERNEL_SIZE = (3,3)\n",
        "POOL_SIZE = (2,2)\n",
        "\n",
        "# building a linear seqential model with few levels of convolutional models followed by fully connected hidden layer and output layer\n",
        "CNN_model = Sequential()\n",
        "\n",
        "# convolutional layer - 1\n",
        "CNN_model.add(Conv2D(16, kernel_size=KERNEL_SIZE,input_shape=INPUT_SHAPE,strides=(1,1), padding='valid', activation='relu'))\n",
        "CNN_model.add(BatchNormalization())\n",
        "CNN_model.add(MaxPool2D(pool_size=POOL_SIZE))\n",
        "\n",
        "# convolutional layer - 2\n",
        "CNN_model.add(Conv2D(32, kernel_size=KERNEL_SIZE,input_shape=INPUT_SHAPE,strides=(1,1), padding='valid', activation='relu'))\n",
        "CNN_model.add(BatchNormalization())\n",
        "CNN_model.add(MaxPool2D(pool_size=POOL_SIZE))\n",
        "\n",
        "\n",
        "\n",
        "\n",
        "# Adding the fully connected layer - flatten the resultant feature map to a 1-dimensional tensor \n",
        "CNN_model.add(Flatten())\n",
        "# Creating the fully connected layer with  hidden nodes\n",
        "CNN_model.add(Dense(500, activation='relu'))\n",
        "CNN_model.add(Dense(300, activation='relu'))\n",
        "CNN_model.add(Dense(200, activation='relu'))\n",
        "CNN_model.add(Dense(100, activation='relu'))\n",
        "\n",
        "\n",
        "\n",
        "# output layer - output layer will have 100 nodes in order to predict the correct class out of the 100 classes\n",
        "CNN_model.add(Dense(num_classes, activation='softmax'))\n",
        "\n",
        "\n",
        "\n",
        "# Compiling the model\n",
        "CNN_model.compile(loss='categorical_crossentropy', metrics=['accuracy'], optimizer='adam')\n",
        "\n",
        "# training the model fby specifying the epochs and batch size\n",
        "CNN_model.fit(X_train, Y_train, batch_size=BATCH_SIZE, epochs=EPOCHS, validation_data=(X_test, Y_test))\n"
      ],
      "metadata": {
        "id": "LnYYM0C2WH6e",
        "colab": {
          "base_uri": "https://localhost:8080/"
        },
        "outputId": "cd43d94d-46a4-45ed-f342-df573bcd27c5"
      },
      "execution_count": null,
      "outputs": [
        {
          "output_type": "stream",
          "name": "stdout",
          "text": [
            "Epoch 1/6\n",
            "1600/1600 [==============================] - 265s 164ms/step - loss: 1.8894 - accuracy: 0.5278 - val_loss: 1.5357 - val_accuracy: 0.6042\n",
            "Epoch 2/6\n",
            "1600/1600 [==============================] - 261s 163ms/step - loss: 1.3623 - accuracy: 0.6440 - val_loss: 1.3802 - val_accuracy: 0.6434\n",
            "Epoch 3/6\n",
            " 884/1600 [===============>..............] - ETA: 1:48 - loss: 1.2154 - accuracy: 0.6775"
          ]
        }
      ]
    },
    {
      "cell_type": "code",
      "source": [
        "CNN_model.save('/content/drive/MyDrive/Colab Notebooks/model_chravi.h5')"
      ],
      "metadata": {
        "id": "4h2oPOWrrjI5"
      },
      "execution_count": null,
      "outputs": []
    },
    {
      "cell_type": "code",
      "source": [],
      "metadata": {
        "id": "KZ5t89-kTxgX"
      },
      "execution_count": null,
      "outputs": []
    }
  ]
}